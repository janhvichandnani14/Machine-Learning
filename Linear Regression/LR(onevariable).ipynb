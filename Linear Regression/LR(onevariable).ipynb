{
  "nbformat": 4,
  "nbformat_minor": 0,
  "metadata": {
    "colab": {
      "provenance": []
    },
    "kernelspec": {
      "name": "python3",
      "display_name": "Python 3"
    },
    "language_info": {
      "name": "python"
    }
  },
  "cells": [
    {
      "cell_type": "markdown",
      "source": [
        "#**<font color='blue'><b>Lab-02 Linear Regression With One Variable**\n",
        "\n",
        "> Indented block\n",
        "\n",
        "\n",
        "\n"
      ],
      "metadata": {
        "id": "JvrNBDUMCSUk"
      }
    },
    {
      "cell_type": "markdown",
      "source": [
        "In the first part of the exercise, we're tasked with implementing linear regression with one variable to predict profits for a food truck. Suppose you are the CEO of a restaurant franchise and are considering different cities for opening a new outlet. The chain already has trucks in various cities and you have data for profits and populations from the cities.\n",
        "\n",
        "**Let's start by importing some libraries and examining the data.**"
      ],
      "metadata": {
        "id": "ko8cXHzzDPT8"
      }
    },
    {
      "cell_type": "code",
      "execution_count": null,
      "metadata": {
        "id": "-WMazQNKCNLj"
      },
      "outputs": [],
      "source": [
        "import numpy as np\n",
        "import pandas as pd\n",
        "import matplotlib.pyplot as plt\n",
        "%matplotlib inline"
      ]
    },
    {
      "cell_type": "code",
      "source": [
        "from google.colab import files\n",
        "files.upload()\n"
      ],
      "metadata": {
        "id": "NcRKYjCTDmv0",
        "colab": {
          "base_uri": "https://localhost:8080/",
          "height": 130
        },
        "outputId": "d04578b6-55e8-4738-f4ec-e09725a6ac99"
      },
      "execution_count": null,
      "outputs": [
        {
          "output_type": "display_data",
          "data": {
            "text/plain": [
              "<IPython.core.display.HTML object>"
            ],
            "text/html": [
              "\n",
              "     <input type=\"file\" id=\"files-f018fdf2-bed4-47ec-8ac3-8e138df4f705\" name=\"files[]\" multiple disabled\n",
              "        style=\"border:none\" />\n",
              "     <output id=\"result-f018fdf2-bed4-47ec-8ac3-8e138df4f705\">\n",
              "      Upload widget is only available when the cell has been executed in the\n",
              "      current browser session. Please rerun this cell to enable.\n",
              "      </output>\n",
              "      <script>// Copyright 2017 Google LLC\n",
              "//\n",
              "// Licensed under the Apache License, Version 2.0 (the \"License\");\n",
              "// you may not use this file except in compliance with the License.\n",
              "// You may obtain a copy of the License at\n",
              "//\n",
              "//      http://www.apache.org/licenses/LICENSE-2.0\n",
              "//\n",
              "// Unless required by applicable law or agreed to in writing, software\n",
              "// distributed under the License is distributed on an \"AS IS\" BASIS,\n",
              "// WITHOUT WARRANTIES OR CONDITIONS OF ANY KIND, either express or implied.\n",
              "// See the License for the specific language governing permissions and\n",
              "// limitations under the License.\n",
              "\n",
              "/**\n",
              " * @fileoverview Helpers for google.colab Python module.\n",
              " */\n",
              "(function(scope) {\n",
              "function span(text, styleAttributes = {}) {\n",
              "  const element = document.createElement('span');\n",
              "  element.textContent = text;\n",
              "  for (const key of Object.keys(styleAttributes)) {\n",
              "    element.style[key] = styleAttributes[key];\n",
              "  }\n",
              "  return element;\n",
              "}\n",
              "\n",
              "// Max number of bytes which will be uploaded at a time.\n",
              "const MAX_PAYLOAD_SIZE = 100 * 1024;\n",
              "\n",
              "function _uploadFiles(inputId, outputId) {\n",
              "  const steps = uploadFilesStep(inputId, outputId);\n",
              "  const outputElement = document.getElementById(outputId);\n",
              "  // Cache steps on the outputElement to make it available for the next call\n",
              "  // to uploadFilesContinue from Python.\n",
              "  outputElement.steps = steps;\n",
              "\n",
              "  return _uploadFilesContinue(outputId);\n",
              "}\n",
              "\n",
              "// This is roughly an async generator (not supported in the browser yet),\n",
              "// where there are multiple asynchronous steps and the Python side is going\n",
              "// to poll for completion of each step.\n",
              "// This uses a Promise to block the python side on completion of each step,\n",
              "// then passes the result of the previous step as the input to the next step.\n",
              "function _uploadFilesContinue(outputId) {\n",
              "  const outputElement = document.getElementById(outputId);\n",
              "  const steps = outputElement.steps;\n",
              "\n",
              "  const next = steps.next(outputElement.lastPromiseValue);\n",
              "  return Promise.resolve(next.value.promise).then((value) => {\n",
              "    // Cache the last promise value to make it available to the next\n",
              "    // step of the generator.\n",
              "    outputElement.lastPromiseValue = value;\n",
              "    return next.value.response;\n",
              "  });\n",
              "}\n",
              "\n",
              "/**\n",
              " * Generator function which is called between each async step of the upload\n",
              " * process.\n",
              " * @param {string} inputId Element ID of the input file picker element.\n",
              " * @param {string} outputId Element ID of the output display.\n",
              " * @return {!Iterable<!Object>} Iterable of next steps.\n",
              " */\n",
              "function* uploadFilesStep(inputId, outputId) {\n",
              "  const inputElement = document.getElementById(inputId);\n",
              "  inputElement.disabled = false;\n",
              "\n",
              "  const outputElement = document.getElementById(outputId);\n",
              "  outputElement.innerHTML = '';\n",
              "\n",
              "  const pickedPromise = new Promise((resolve) => {\n",
              "    inputElement.addEventListener('change', (e) => {\n",
              "      resolve(e.target.files);\n",
              "    });\n",
              "  });\n",
              "\n",
              "  const cancel = document.createElement('button');\n",
              "  inputElement.parentElement.appendChild(cancel);\n",
              "  cancel.textContent = 'Cancel upload';\n",
              "  const cancelPromise = new Promise((resolve) => {\n",
              "    cancel.onclick = () => {\n",
              "      resolve(null);\n",
              "    };\n",
              "  });\n",
              "\n",
              "  // Wait for the user to pick the files.\n",
              "  const files = yield {\n",
              "    promise: Promise.race([pickedPromise, cancelPromise]),\n",
              "    response: {\n",
              "      action: 'starting',\n",
              "    }\n",
              "  };\n",
              "\n",
              "  cancel.remove();\n",
              "\n",
              "  // Disable the input element since further picks are not allowed.\n",
              "  inputElement.disabled = true;\n",
              "\n",
              "  if (!files) {\n",
              "    return {\n",
              "      response: {\n",
              "        action: 'complete',\n",
              "      }\n",
              "    };\n",
              "  }\n",
              "\n",
              "  for (const file of files) {\n",
              "    const li = document.createElement('li');\n",
              "    li.append(span(file.name, {fontWeight: 'bold'}));\n",
              "    li.append(span(\n",
              "        `(${file.type || 'n/a'}) - ${file.size} bytes, ` +\n",
              "        `last modified: ${\n",
              "            file.lastModifiedDate ? file.lastModifiedDate.toLocaleDateString() :\n",
              "                                    'n/a'} - `));\n",
              "    const percent = span('0% done');\n",
              "    li.appendChild(percent);\n",
              "\n",
              "    outputElement.appendChild(li);\n",
              "\n",
              "    const fileDataPromise = new Promise((resolve) => {\n",
              "      const reader = new FileReader();\n",
              "      reader.onload = (e) => {\n",
              "        resolve(e.target.result);\n",
              "      };\n",
              "      reader.readAsArrayBuffer(file);\n",
              "    });\n",
              "    // Wait for the data to be ready.\n",
              "    let fileData = yield {\n",
              "      promise: fileDataPromise,\n",
              "      response: {\n",
              "        action: 'continue',\n",
              "      }\n",
              "    };\n",
              "\n",
              "    // Use a chunked sending to avoid message size limits. See b/62115660.\n",
              "    let position = 0;\n",
              "    do {\n",
              "      const length = Math.min(fileData.byteLength - position, MAX_PAYLOAD_SIZE);\n",
              "      const chunk = new Uint8Array(fileData, position, length);\n",
              "      position += length;\n",
              "\n",
              "      const base64 = btoa(String.fromCharCode.apply(null, chunk));\n",
              "      yield {\n",
              "        response: {\n",
              "          action: 'append',\n",
              "          file: file.name,\n",
              "          data: base64,\n",
              "        },\n",
              "      };\n",
              "\n",
              "      let percentDone = fileData.byteLength === 0 ?\n",
              "          100 :\n",
              "          Math.round((position / fileData.byteLength) * 100);\n",
              "      percent.textContent = `${percentDone}% done`;\n",
              "\n",
              "    } while (position < fileData.byteLength);\n",
              "  }\n",
              "\n",
              "  // All done.\n",
              "  yield {\n",
              "    response: {\n",
              "      action: 'complete',\n",
              "    }\n",
              "  };\n",
              "}\n",
              "\n",
              "scope.google = scope.google || {};\n",
              "scope.google.colab = scope.google.colab || {};\n",
              "scope.google.colab._files = {\n",
              "  _uploadFiles,\n",
              "  _uploadFilesContinue,\n",
              "};\n",
              "})(self);\n",
              "</script> "
            ]
          },
          "metadata": {}
        },
        {
          "output_type": "stream",
          "name": "stdout",
          "text": [
            "Saving ex1data1.csv to ex1data1.csv\n"
          ]
        },
        {
          "output_type": "execute_result",
          "data": {
            "text/plain": [
              "{'ex1data1.csv': b'6.1101,17.592\\n5.5277,9.1302\\n8.5186,13.662\\n7.0032,11.854\\n5.8598,6.8233\\n8.3829,11.886\\n7.4764,4.3483\\n8.5781,12\\n6.4862,6.5987\\n5.0546,3.8166\\n5.7107,3.2522\\n14.164,15.505\\n5.734,3.1551\\n8.4084,7.2258\\n5.6407,0.71618\\n5.3794,3.5129\\n6.3654,5.3048\\n5.1301,0.56077\\n6.4296,3.6518\\n7.0708,5.3893\\n6.1891,3.1386\\n20.27,21.767\\n5.4901,4.263\\n6.3261,5.1875\\n5.5649,3.0825\\n18.945,22.638\\n12.828,13.501\\n10.957,7.0467\\n13.176,14.692\\n22.203,24.147\\n5.2524,-1.22\\n6.5894,5.9966\\n9.2482,12.134\\n5.8918,1.8495\\n8.2111,6.5426\\n7.9334,4.5623\\n8.0959,4.1164\\n5.6063,3.3928\\n12.836,10.117\\n6.3534,5.4974\\n5.4069,0.55657\\n6.8825,3.9115\\n11.708,5.3854\\n5.7737,2.4406\\n7.8247,6.7318\\n7.0931,1.0463\\n5.0702,5.1337\\n5.8014,1.844\\n11.7,8.0043\\n5.5416,1.0179\\n7.5402,6.7504\\n5.3077,1.8396\\n7.4239,4.2885\\n7.6031,4.9981\\n6.3328,1.4233\\n6.3589,-1.4211\\n6.2742,2.4756\\n5.6397,4.6042\\n9.3102,3.9624\\n9.4536,5.4141\\n8.8254,5.1694\\n5.1793,-0.74279\\n21.279,17.929\\n14.908,12.054\\n18.959,17.054\\n7.2182,4.8852\\n8.2951,5.7442\\n10.236,7.7754\\n5.4994,1.0173\\n20.341,20.992\\n10.136,6.6799\\n7.3345,4.0259\\n6.0062,1.2784\\n7.2259,3.3411\\n5.0269,-2.6807\\n6.5479,0.29678\\n7.5386,3.8845\\n5.0365,5.7014\\n10.274,6.7526\\n5.1077,2.0576\\n5.7292,0.47953\\n5.1884,0.20421\\n6.3557,0.67861\\n9.7687,7.5435\\n6.5159,5.3436\\n8.5172,4.2415\\n9.1802,6.7981\\n6.002,0.92695\\n5.5204,0.152\\n5.0594,2.8214\\n5.7077,1.8451\\n7.6366,4.2959\\n5.8707,7.2029\\n5.3054,1.9869\\n8.2934,0.14454\\n13.394,9.0551\\n5.4369,0.61705\\n'}"
            ]
          },
          "metadata": {},
          "execution_count": 2
        }
      ]
    },
    {
      "cell_type": "code",
      "source": [
        "data =pd.read_csv('ex1data1.csv',names=['Population','Profit'])"
      ],
      "metadata": {
        "id": "zGZsssoVEzp1"
      },
      "execution_count": null,
      "outputs": []
    },
    {
      "cell_type": "code",
      "source": [
        "data.insert(0,\"ones\",1)"
      ],
      "metadata": {
        "id": "v_KFk0a8Ur9F"
      },
      "execution_count": null,
      "outputs": []
    },
    {
      "cell_type": "code",
      "source": [
        "print(data.head)"
      ],
      "metadata": {
        "id": "wjK8oSJ9U_50",
        "colab": {
          "base_uri": "https://localhost:8080/"
        },
        "outputId": "93f3baa4-8ccd-41c9-ec7b-19f96b3595d2"
      },
      "execution_count": null,
      "outputs": [
        {
          "output_type": "stream",
          "name": "stdout",
          "text": [
            "<bound method NDFrame.head of     ones  Population    Profit\n",
            "0      1      6.1101  17.59200\n",
            "1      1      5.5277   9.13020\n",
            "2      1      8.5186  13.66200\n",
            "3      1      7.0032  11.85400\n",
            "4      1      5.8598   6.82330\n",
            "..   ...         ...       ...\n",
            "92     1      5.8707   7.20290\n",
            "93     1      5.3054   1.98690\n",
            "94     1      8.2934   0.14454\n",
            "95     1     13.3940   9.05510\n",
            "96     1      5.4369   0.61705\n",
            "\n",
            "[97 rows x 3 columns]>\n"
          ]
        }
      ]
    },
    {
      "cell_type": "code",
      "source": [
        "cols=data.shape[1]\n",
        "x=data.iloc[:,0:cols-1]\n",
        "y=data.iloc[:,cols-1:cols]"
      ],
      "metadata": {
        "id": "H2GxahhUf2DH"
      },
      "execution_count": null,
      "outputs": []
    },
    {
      "cell_type": "code",
      "source": [
        "print(data.shape)"
      ],
      "metadata": {
        "colab": {
          "base_uri": "https://localhost:8080/"
        },
        "id": "-CNeg7EQgKVo",
        "outputId": "e7cf6f5d-2bcf-4c07-a9bb-091a7be4e96b"
      },
      "execution_count": null,
      "outputs": [
        {
          "output_type": "stream",
          "name": "stdout",
          "text": [
            "(97, 3)\n"
          ]
        }
      ]
    },
    {
      "cell_type": "code",
      "source": [
        "x=np.matrix(x.values)\n",
        "y=np.matrix(y.values)\n",
        "theta=np.matrix(np.array([0,0]))"
      ],
      "metadata": {
        "id": "QvDAVSljgQc9"
      },
      "execution_count": null,
      "outputs": []
    },
    {
      "cell_type": "code",
      "source": [
        "print(x)"
      ],
      "metadata": {
        "colab": {
          "base_uri": "https://localhost:8080/"
        },
        "id": "wFaaL12Xgsbc",
        "outputId": "9f1f51ee-8255-45bd-88a6-9917e757bd33"
      },
      "execution_count": null,
      "outputs": [
        {
          "output_type": "stream",
          "name": "stdout",
          "text": [
            "[[ 1.      6.1101]\n",
            " [ 1.      5.5277]\n",
            " [ 1.      8.5186]\n",
            " [ 1.      7.0032]\n",
            " [ 1.      5.8598]\n",
            " [ 1.      8.3829]\n",
            " [ 1.      7.4764]\n",
            " [ 1.      8.5781]\n",
            " [ 1.      6.4862]\n",
            " [ 1.      5.0546]\n",
            " [ 1.      5.7107]\n",
            " [ 1.     14.164 ]\n",
            " [ 1.      5.734 ]\n",
            " [ 1.      8.4084]\n",
            " [ 1.      5.6407]\n",
            " [ 1.      5.3794]\n",
            " [ 1.      6.3654]\n",
            " [ 1.      5.1301]\n",
            " [ 1.      6.4296]\n",
            " [ 1.      7.0708]\n",
            " [ 1.      6.1891]\n",
            " [ 1.     20.27  ]\n",
            " [ 1.      5.4901]\n",
            " [ 1.      6.3261]\n",
            " [ 1.      5.5649]\n",
            " [ 1.     18.945 ]\n",
            " [ 1.     12.828 ]\n",
            " [ 1.     10.957 ]\n",
            " [ 1.     13.176 ]\n",
            " [ 1.     22.203 ]\n",
            " [ 1.      5.2524]\n",
            " [ 1.      6.5894]\n",
            " [ 1.      9.2482]\n",
            " [ 1.      5.8918]\n",
            " [ 1.      8.2111]\n",
            " [ 1.      7.9334]\n",
            " [ 1.      8.0959]\n",
            " [ 1.      5.6063]\n",
            " [ 1.     12.836 ]\n",
            " [ 1.      6.3534]\n",
            " [ 1.      5.4069]\n",
            " [ 1.      6.8825]\n",
            " [ 1.     11.708 ]\n",
            " [ 1.      5.7737]\n",
            " [ 1.      7.8247]\n",
            " [ 1.      7.0931]\n",
            " [ 1.      5.0702]\n",
            " [ 1.      5.8014]\n",
            " [ 1.     11.7   ]\n",
            " [ 1.      5.5416]\n",
            " [ 1.      7.5402]\n",
            " [ 1.      5.3077]\n",
            " [ 1.      7.4239]\n",
            " [ 1.      7.6031]\n",
            " [ 1.      6.3328]\n",
            " [ 1.      6.3589]\n",
            " [ 1.      6.2742]\n",
            " [ 1.      5.6397]\n",
            " [ 1.      9.3102]\n",
            " [ 1.      9.4536]\n",
            " [ 1.      8.8254]\n",
            " [ 1.      5.1793]\n",
            " [ 1.     21.279 ]\n",
            " [ 1.     14.908 ]\n",
            " [ 1.     18.959 ]\n",
            " [ 1.      7.2182]\n",
            " [ 1.      8.2951]\n",
            " [ 1.     10.236 ]\n",
            " [ 1.      5.4994]\n",
            " [ 1.     20.341 ]\n",
            " [ 1.     10.136 ]\n",
            " [ 1.      7.3345]\n",
            " [ 1.      6.0062]\n",
            " [ 1.      7.2259]\n",
            " [ 1.      5.0269]\n",
            " [ 1.      6.5479]\n",
            " [ 1.      7.5386]\n",
            " [ 1.      5.0365]\n",
            " [ 1.     10.274 ]\n",
            " [ 1.      5.1077]\n",
            " [ 1.      5.7292]\n",
            " [ 1.      5.1884]\n",
            " [ 1.      6.3557]\n",
            " [ 1.      9.7687]\n",
            " [ 1.      6.5159]\n",
            " [ 1.      8.5172]\n",
            " [ 1.      9.1802]\n",
            " [ 1.      6.002 ]\n",
            " [ 1.      5.5204]\n",
            " [ 1.      5.0594]\n",
            " [ 1.      5.7077]\n",
            " [ 1.      7.6366]\n",
            " [ 1.      5.8707]\n",
            " [ 1.      5.3054]\n",
            " [ 1.      8.2934]\n",
            " [ 1.     13.394 ]\n",
            " [ 1.      5.4369]]\n"
          ]
        }
      ]
    },
    {
      "cell_type": "code",
      "source": [
        "theta.shape"
      ],
      "metadata": {
        "colab": {
          "base_uri": "https://localhost:8080/"
        },
        "id": "0gHi59ing6yQ",
        "outputId": "5399f68a-67b9-427d-fbd4-a90ce465e0fa"
      },
      "execution_count": null,
      "outputs": [
        {
          "output_type": "execute_result",
          "data": {
            "text/plain": [
              "(1, 2)"
            ]
          },
          "metadata": {},
          "execution_count": 13
        }
      ]
    },
    {
      "cell_type": "code",
      "source": [
        "x.shape"
      ],
      "metadata": {
        "colab": {
          "base_uri": "https://localhost:8080/"
        },
        "id": "gB3VMEdRg-r9",
        "outputId": "c92b5b4a-4881-4174-e2bd-cd16378e6d44"
      },
      "execution_count": null,
      "outputs": [
        {
          "output_type": "execute_result",
          "data": {
            "text/plain": [
              "(97, 2)"
            ]
          },
          "metadata": {},
          "execution_count": 14
        }
      ]
    },
    {
      "cell_type": "code",
      "source": [
        "y.shape"
      ],
      "metadata": {
        "colab": {
          "base_uri": "https://localhost:8080/"
        },
        "id": "7XNOphZNhEKd",
        "outputId": "54be46e2-f875-462e-9e54-42739fbc2530"
      },
      "execution_count": null,
      "outputs": [
        {
          "output_type": "execute_result",
          "data": {
            "text/plain": [
              "(97, 1)"
            ]
          },
          "metadata": {},
          "execution_count": 15
        }
      ]
    },
    {
      "cell_type": "code",
      "source": [
        "y_hat=x*theta.T\n",
        "print(y_hat)"
      ],
      "metadata": {
        "colab": {
          "base_uri": "https://localhost:8080/"
        },
        "id": "dvQ40ZgehL7d",
        "outputId": "3650c443-d194-4bd6-d57b-6d21135a7b7a"
      },
      "execution_count": null,
      "outputs": [
        {
          "output_type": "stream",
          "name": "stdout",
          "text": [
            "[[0.]\n",
            " [0.]\n",
            " [0.]\n",
            " [0.]\n",
            " [0.]\n",
            " [0.]\n",
            " [0.]\n",
            " [0.]\n",
            " [0.]\n",
            " [0.]\n",
            " [0.]\n",
            " [0.]\n",
            " [0.]\n",
            " [0.]\n",
            " [0.]\n",
            " [0.]\n",
            " [0.]\n",
            " [0.]\n",
            " [0.]\n",
            " [0.]\n",
            " [0.]\n",
            " [0.]\n",
            " [0.]\n",
            " [0.]\n",
            " [0.]\n",
            " [0.]\n",
            " [0.]\n",
            " [0.]\n",
            " [0.]\n",
            " [0.]\n",
            " [0.]\n",
            " [0.]\n",
            " [0.]\n",
            " [0.]\n",
            " [0.]\n",
            " [0.]\n",
            " [0.]\n",
            " [0.]\n",
            " [0.]\n",
            " [0.]\n",
            " [0.]\n",
            " [0.]\n",
            " [0.]\n",
            " [0.]\n",
            " [0.]\n",
            " [0.]\n",
            " [0.]\n",
            " [0.]\n",
            " [0.]\n",
            " [0.]\n",
            " [0.]\n",
            " [0.]\n",
            " [0.]\n",
            " [0.]\n",
            " [0.]\n",
            " [0.]\n",
            " [0.]\n",
            " [0.]\n",
            " [0.]\n",
            " [0.]\n",
            " [0.]\n",
            " [0.]\n",
            " [0.]\n",
            " [0.]\n",
            " [0.]\n",
            " [0.]\n",
            " [0.]\n",
            " [0.]\n",
            " [0.]\n",
            " [0.]\n",
            " [0.]\n",
            " [0.]\n",
            " [0.]\n",
            " [0.]\n",
            " [0.]\n",
            " [0.]\n",
            " [0.]\n",
            " [0.]\n",
            " [0.]\n",
            " [0.]\n",
            " [0.]\n",
            " [0.]\n",
            " [0.]\n",
            " [0.]\n",
            " [0.]\n",
            " [0.]\n",
            " [0.]\n",
            " [0.]\n",
            " [0.]\n",
            " [0.]\n",
            " [0.]\n",
            " [0.]\n",
            " [0.]\n",
            " [0.]\n",
            " [0.]\n",
            " [0.]\n",
            " [0.]]\n"
          ]
        }
      ]
    },
    {
      "cell_type": "code",
      "source": [
        "error=np.power(y_hat-y,2)\n",
        "print(error)"
      ],
      "metadata": {
        "colab": {
          "base_uri": "https://localhost:8080/"
        },
        "id": "Mw3vJd9jliLQ",
        "outputId": "b4c5b3c1-fce7-4037-c32e-d5c07c284f67"
      },
      "execution_count": null,
      "outputs": [
        {
          "output_type": "stream",
          "name": "stdout",
          "text": [
            "[[3.09478464e+02]\n",
            " [8.33605520e+01]\n",
            " [1.86650244e+02]\n",
            " [1.40517316e+02]\n",
            " [4.65574229e+01]\n",
            " [1.41276996e+02]\n",
            " [1.89077129e+01]\n",
            " [1.44000000e+02]\n",
            " [4.35428417e+01]\n",
            " [1.45664356e+01]\n",
            " [1.05768048e+01]\n",
            " [2.40405025e+02]\n",
            " [9.95465601e+00]\n",
            " [5.22121856e+01]\n",
            " [5.12913792e-01]\n",
            " [1.23404664e+01]\n",
            " [2.81409030e+01]\n",
            " [3.14462993e-01]\n",
            " [1.33356432e+01]\n",
            " [2.90445545e+01]\n",
            " [9.85080996e+00]\n",
            " [4.73802289e+02]\n",
            " [1.81731690e+01]\n",
            " [2.69101562e+01]\n",
            " [9.50180625e+00]\n",
            " [5.12479044e+02]\n",
            " [1.82277001e+02]\n",
            " [4.96559809e+01]\n",
            " [2.15854864e+02]\n",
            " [5.83077609e+02]\n",
            " [1.48840000e+00]\n",
            " [3.59592116e+01]\n",
            " [1.47233956e+02]\n",
            " [3.42065025e+00]\n",
            " [4.28056148e+01]\n",
            " [2.08145813e+01]\n",
            " [1.69447490e+01]\n",
            " [1.15110918e+01]\n",
            " [1.02353689e+02]\n",
            " [3.02214068e+01]\n",
            " [3.09770165e-01]\n",
            " [1.52998323e+01]\n",
            " [2.90025332e+01]\n",
            " [5.95652836e+00]\n",
            " [4.53171312e+01]\n",
            " [1.09474369e+00]\n",
            " [2.63548757e+01]\n",
            " [3.40033600e+00]\n",
            " [6.40688185e+01]\n",
            " [1.03612041e+00]\n",
            " [4.55679002e+01]\n",
            " [3.38412816e+00]\n",
            " [1.83912322e+01]\n",
            " [2.49810036e+01]\n",
            " [2.02578289e+00]\n",
            " [2.01952521e+00]\n",
            " [6.12859536e+00]\n",
            " [2.11986576e+01]\n",
            " [1.57006138e+01]\n",
            " [2.93124788e+01]\n",
            " [2.67226964e+01]\n",
            " [5.51736984e-01]\n",
            " [3.21449041e+02]\n",
            " [1.45298916e+02]\n",
            " [2.90838916e+02]\n",
            " [2.38651790e+01]\n",
            " [3.29958336e+01]\n",
            " [6.04568452e+01]\n",
            " [1.03489929e+00]\n",
            " [4.40664064e+02]\n",
            " [4.46210640e+01]\n",
            " [1.62078708e+01]\n",
            " [1.63430656e+00]\n",
            " [1.11629492e+01]\n",
            " [7.18615249e+00]\n",
            " [8.80783684e-02]\n",
            " [1.50893403e+01]\n",
            " [3.25059620e+01]\n",
            " [4.55976068e+01]\n",
            " [4.23371776e+00]\n",
            " [2.29949021e-01]\n",
            " [4.17017241e-02]\n",
            " [4.60511532e-01]\n",
            " [5.69043923e+01]\n",
            " [2.85540610e+01]\n",
            " [1.79903223e+01]\n",
            " [4.62141636e+01]\n",
            " [8.59236303e-01]\n",
            " [2.31040000e-02]\n",
            " [7.96029796e+00]\n",
            " [3.40439401e+00]\n",
            " [1.84547568e+01]\n",
            " [5.18817684e+01]\n",
            " [3.94777161e+00]\n",
            " [2.08918116e-02]\n",
            " [8.19948360e+01]\n",
            " [3.80750702e-01]]\n"
          ]
        }
      ]
    },
    {
      "cell_type": "code",
      "source": [
        "cost=np.sum(error)/(2*len(x))\n",
        "cost"
      ],
      "metadata": {
        "colab": {
          "base_uri": "https://localhost:8080/"
        },
        "id": "C8HTwa8ImGEb",
        "outputId": "17650d1a-6e36-4fcd-f764-db75f484f588"
      },
      "execution_count": null,
      "outputs": [
        {
          "output_type": "execute_result",
          "data": {
            "text/plain": [
              "32.072733877455676"
            ]
          },
          "metadata": {},
          "execution_count": 32
        }
      ]
    },
    {
      "cell_type": "code",
      "source": [
        "def computeCost(x, y, theta):\n",
        "    y_hat=x*theta.T\n",
        "    inner=np.power(y_hat-y,2)\n",
        "    return np.sum(inner)/(2*len(x))\n",
        "\n",
        "    return cost"
      ],
      "metadata": {
        "id": "F204fyX-VzAO"
      },
      "execution_count": null,
      "outputs": []
    },
    {
      "cell_type": "code",
      "source": [
        "def computeCost()"
      ],
      "metadata": {
        "id": "qepyoomJka4m"
      },
      "execution_count": null,
      "outputs": []
    },
    {
      "cell_type": "code",
      "source": [
        "computeCost(x,y,theta)"
      ],
      "metadata": {
        "colab": {
          "base_uri": "https://localhost:8080/"
        },
        "id": "pFC0xvL5jacz",
        "outputId": "cd69ad71-c0a2-4c77-bdbf-027a79144c99"
      },
      "execution_count": null,
      "outputs": [
        {
          "output_type": "execute_result",
          "data": {
            "text/plain": [
              "32.072733877455676"
            ]
          },
          "metadata": {},
          "execution_count": 27
        }
      ]
    },
    {
      "cell_type": "code",
      "source": [
        "tem=np.matrix(np.zeros(theta.shape))\n",
        "print(tem)"
      ],
      "metadata": {
        "colab": {
          "base_uri": "https://localhost:8080/"
        },
        "id": "NplD-ppfntbp",
        "outputId": "50d44f57-5989-4502-9695-e57aeaa483c1"
      },
      "execution_count": null,
      "outputs": [
        {
          "output_type": "stream",
          "name": "stdout",
          "text": [
            "[[0. 0.]]\n"
          ]
        }
      ]
    },
    {
      "cell_type": "code",
      "source": [],
      "metadata": {
        "id": "Tew1gIsrrGVy"
      },
      "execution_count": null,
      "outputs": []
    },
    {
      "cell_type": "markdown",
      "source": [],
      "metadata": {
        "id": "BC2YiwZ4gPFv"
      }
    },
    {
      "cell_type": "markdown",
      "source": [
        "**Lab-01(b) Linear Regression with multiple Variables**"
      ],
      "metadata": {
        "id": "KcZOLH43dHKa"
      }
    }
  ]
}